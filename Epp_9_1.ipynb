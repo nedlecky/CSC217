{
  "nbformat": 4,
  "nbformat_minor": 0,
  "metadata": {
    "colab": {
      "provenance": [],
      "authorship_tag": "ABX9TyNNyihX+Xt8JwrFlLtum66x",
      "include_colab_link": true
    },
    "kernelspec": {
      "name": "python3",
      "display_name": "Python 3"
    },
    "language_info": {
      "name": "python"
    }
  },
  "cells": [
    {
      "cell_type": "markdown",
      "metadata": {
        "id": "view-in-github",
        "colab_type": "text"
      },
      "source": [
        "<a href=\"https://colab.research.google.com/github/nedlecky/CSC217/blob/main/Epp_9_1.ipynb\" target=\"_parent\"><img src=\"https://colab.research.google.com/assets/colab-badge.svg\" alt=\"Open In Colab\"/></a>"
      ]
    },
    {
      "cell_type": "code",
      "execution_count": 8,
      "metadata": {
        "colab": {
          "base_uri": "https://localhost:8080/"
        },
        "id": "AyQpB36aiESV",
        "outputId": "be272908-7f75-4eda-ea05-8dd007c12e85"
      },
      "outputs": [
        {
          "output_type": "stream",
          "name": "stdout",
          "text": [
            "n_heads=[2495, 5049, 2456]\n"
          ]
        }
      ],
      "source": [
        "import random\n",
        "\n",
        "coin = ['head', 'tail']\n",
        "\n",
        "# Number of trials\n",
        "N=10000\n",
        "\n",
        "# Count of number of heads (0, 1, 2)\n",
        "n_heads=[0,0,0]\n",
        "\n",
        "for i in range(1, N+1):\n",
        "  coin1 = random.choice(coin)\n",
        "  coin2 = random.choice(coin)\n",
        "  #rint(f'Toss {i}: {coin1} {coin2}')\n",
        "  n=0\n",
        "  if coin1=='head':\n",
        "    n += 1\n",
        "  if coin2=='head':\n",
        "    n += 1\n",
        "  n_heads[n] += 1\n",
        "\n",
        "print(f'n_heads={n_heads}')\n"
      ]
    },
    {
      "cell_type": "code",
      "source": [
        "n = 20\n",
        "m = 11\n",
        "A = random.sample(range(0, n), n)\n",
        "\n",
        "print(f'len(A) = {len(A)} {A}')\n",
        "\n",
        "B = A[:m]\n",
        "C = A[m:]\n",
        "print(f'len(B) = {len(B)} {B}')\n",
        "print(f'len(C) = {len(C)} {C}')\n"
      ],
      "metadata": {
        "colab": {
          "base_uri": "https://localhost:8080/"
        },
        "id": "o1ZfuugpiO04",
        "outputId": "1524eebb-9794-4cb7-cb4b-dd14b3743270"
      },
      "execution_count": 21,
      "outputs": [
        {
          "output_type": "stream",
          "name": "stdout",
          "text": [
            "len(A) = 20 [16, 17, 1, 14, 10, 0, 18, 8, 15, 2, 19, 12, 6, 13, 4, 7, 11, 5, 3, 9]\n",
            "len(B) = 11 [16, 17, 1, 14, 10, 0, 18, 8, 15, 2, 19]\n",
            "len(C) = 9 [12, 6, 13, 4, 7, 11, 5, 3, 9]\n"
          ]
        }
      ]
    },
    {
      "cell_type": "code",
      "source": [],
      "metadata": {
        "id": "3vIq69jNlVD-"
      },
      "execution_count": null,
      "outputs": []
    }
  ]
}