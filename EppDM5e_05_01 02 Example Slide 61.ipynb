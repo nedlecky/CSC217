{
  "nbformat": 4,
  "nbformat_minor": 0,
  "metadata": {
    "colab": {
      "provenance": [],
      "authorship_tag": "ABX9TyMK9Bz37K1eFQ9C6EaCXbpg",
      "include_colab_link": true
    },
    "kernelspec": {
      "name": "python3",
      "display_name": "Python 3"
    },
    "language_info": {
      "name": "python"
    }
  },
  "cells": [
    {
      "cell_type": "markdown",
      "metadata": {
        "id": "view-in-github",
        "colab_type": "text"
      },
      "source": [
        "<a href=\"https://colab.research.google.com/github/nedlecky/CSC217/blob/main/EppDM5e_05_01%2002%20Example%20Slide%2061.ipynb\" target=\"_parent\"><img src=\"https://colab.research.google.com/assets/colab-badge.svg\" alt=\"Open In Colab\"/></a>"
      ]
    },
    {
      "cell_type": "code",
      "execution_count": null,
      "metadata": {
        "colab": {
          "base_uri": "https://localhost:8080/"
        },
        "id": "dxUINFz9Zwik",
        "outputId": "d32717bf-8fe7-4901-8585-49664aac8007"
      },
      "outputs": [
        {
          "output_type": "stream",
          "name": "stdout",
          "text": [
            "1\n",
            "1\n",
            "2\n",
            "6\n",
            "24\n",
            "120\n",
            "2432902008176640000\n"
          ]
        }
      ],
      "source": [
        "def fact(n):\n",
        "  prod = 1\n",
        "  \n",
        "  for i in range(1,n+1):\n",
        "    prod *= i\n",
        "\n",
        "  return prod\n",
        "\n",
        "print(fact(0))\n",
        "print(fact(1))\n",
        "print(fact(2))\n",
        "print(fact(3))\n",
        "print(fact(4))\n",
        "print(fact(5))\n",
        "print(fact(20)) "
      ]
    },
    {
      "cell_type": "code",
      "source": [
        "def fact(n):\n",
        "  if n == 0:\n",
        "    return 1\n",
        "    \n",
        "  return n * fact(n-1)\n",
        "\n",
        "print(fact(0))\n",
        "print(fact(1))\n",
        "print(fact(2))\n",
        "print(fact(3))\n",
        "print(fact(4))\n",
        "print(fact(5))\n",
        "print(fact(20)) "
      ],
      "metadata": {
        "colab": {
          "base_uri": "https://localhost:8080/"
        },
        "id": "bPjFbJwBaMbj",
        "outputId": "52c225a6-2cd9-4103-9744-fd94f8f339c5"
      },
      "execution_count": null,
      "outputs": [
        {
          "output_type": "stream",
          "name": "stdout",
          "text": [
            "1\n",
            "1\n",
            "2\n",
            "6\n",
            "24\n",
            "120\n",
            "2432902008176640000\n"
          ]
        }
      ]
    },
    {
      "cell_type": "code",
      "source": [],
      "metadata": {
        "id": "6o97zWxzbO6D"
      },
      "execution_count": null,
      "outputs": []
    }
  ]
}