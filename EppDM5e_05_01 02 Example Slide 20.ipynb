{
  "nbformat": 4,
  "nbformat_minor": 0,
  "metadata": {
    "colab": {
      "provenance": [],
      "authorship_tag": "ABX9TyMv8LVtsh5haHVZDZyoCZqV",
      "include_colab_link": true
    },
    "kernelspec": {
      "name": "python3",
      "display_name": "Python 3"
    },
    "language_info": {
      "name": "python"
    }
  },
  "cells": [
    {
      "cell_type": "markdown",
      "metadata": {
        "id": "view-in-github",
        "colab_type": "text"
      },
      "source": [
        "<a href=\"https://colab.research.google.com/github/nedlecky/CSC217/blob/main/EppDM5e_05_01%2002%20Example%20Slide%2020.ipynb\" target=\"_parent\"><img src=\"https://colab.research.google.com/assets/colab-badge.svg\" alt=\"Open In Colab\"/></a>"
      ]
    },
    {
      "cell_type": "code",
      "execution_count": null,
      "metadata": {
        "colab": {
          "base_uri": "https://localhost:8080/"
        },
        "id": "yWp7j0h6Poxb",
        "outputId": "1157e4e3-03d8-4552-9226-19e6f2f1c743"
      },
      "outputs": [
        {
          "output_type": "stream",
          "name": "stdout",
          "text": [
            "1 1\n",
            "2 4\n",
            "3 9\n",
            "4 16\n",
            "5 25\n",
            "55\n"
          ]
        }
      ],
      "source": [
        "sum = 0\n",
        "for k in range(1,6):\n",
        "  k_squared = k * k\n",
        "  print(k,k_squared)\n",
        "  sum += k_squared\n",
        "\n",
        "print(sum)  \n"
      ]
    },
    {
      "cell_type": "code",
      "source": [],
      "metadata": {
        "id": "NgXVEhb5P358"
      },
      "execution_count": null,
      "outputs": []
    }
  ]
}