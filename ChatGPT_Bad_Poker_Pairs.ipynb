{
  "nbformat": 4,
  "nbformat_minor": 0,
  "metadata": {
    "colab": {
      "provenance": [],
      "authorship_tag": "ABX9TyOQ2ysLO3vx8aiUHL24dHE3",
      "include_colab_link": true
    },
    "kernelspec": {
      "name": "python3",
      "display_name": "Python 3"
    },
    "language_info": {
      "name": "python"
    }
  },
  "cells": [
    {
      "cell_type": "markdown",
      "metadata": {
        "id": "view-in-github",
        "colab_type": "text"
      },
      "source": [
        "<a href=\"https://colab.research.google.com/github/nedlecky/CSC217/blob/main/ChatGPT_Bad_Poker_Pairs.ipynb\" target=\"_parent\"><img src=\"https://colab.research.google.com/assets/colab-badge.svg\" alt=\"Open In Colab\"/></a>"
      ]
    },
    {
      "cell_type": "markdown",
      "source": [
        "Me:\n",
        "what is the probability in poker of being dealt 2 pair\n",
        "\n",
        "ChatGPT:\n",
        "In poker, the probability of being dealt a two-pair hand depends on the specific variant of poker you are playing and the number of players at the table. Here, I'll provide the probability of being dealt a two-pair hand in a standard five-card poker hand, assuming a single deck of 52 cards and a 5-card hand.\n",
        "\n",
        "A two-pair hand consists of two cards of one rank, two cards of another rank, and one card of a third rank (the \"kicker\"). To calculate the probability of being dealt a two-pair hand, you can break it down into the following steps:\n",
        "\n",
        " * Step 1: Choose the ranks for the two pairs.\n",
        "\n",
        "There are 13 ranks (2 through Ace), so you have C(13, 2) ways to choose the two ranks for the pairs.\n",
        " * Step 2: Choose the suits for the first pair.\n",
        "\n",
        "Each rank has 4 suits, so you have C(4, 2) ways to choose the suits for the first pair.\n",
        " * Step 3: Choose the suits for the second pair.\n",
        "\n",
        "After choosing suits for the first pair, there are only 2 suits left for the second pair, so you have C(2, 2) ways to choose the suits for the second pair.\n",
        " * Step 4: Choose the rank for the kicker.\n",
        "\n",
        "There are 11 remaining ranks (since you've already chosen ranks for the pairs), so you have 11 choices for the kicker rank.\n",
        " * Step 5: Choose the suit for the kicker.\n",
        "\n",
        "The kicker can have any of the 4 suits, so you have C(4, 1) ways to choose the suit for the kicker.\n",
        "Now, multiply the choices from each step to calculate the total number of ways to be dealt a two-pair hand:\n",
        "\n",
        "Total ways = C(13, 2) * C(4, 2) * C(2, 2) * 11 * C(4, 1)\n",
        "\n",
        "To calculate the probability, divide the total number of ways to get a two-pair hand by the total number of possible 5-card hands (C(52, 5)):\n",
        "\n",
        "Probability = (Total ways) / C(52, 5)\n",
        "\n",
        "You can calculate this probability, and it will give you the probability of being dealt a two-pair hand in a standard 5-card poker hand. Keep in mind that the probability may vary in different poker variants or with different deck sizes."
      ],
      "metadata": {
        "id": "RRn-C7YQ-bNy"
      }
    },
    {
      "cell_type": "code",
      "execution_count": 8,
      "metadata": {
        "colab": {
          "base_uri": "https://localhost:8080/"
        },
        "id": "gDkXzTcc-auc",
        "outputId": "25418acb-2038-45ff-f280-ac1dd1946173"
      },
      "outputs": [
        {
          "output_type": "stream",
          "name": "stdout",
          "text": [
            "total_hands=2598960\n",
            "two_pairs=123552  4.75%\n",
            "chatgpt: chatpgt_two_pairs=20592  0.79%\n"
          ]
        }
      ],
      "source": [
        "from math import comb\n",
        "\n",
        "total_hands = comb(52, 5)\n",
        "print(f'{total_hands=}')\n",
        "\n",
        "two_pairs = comb(13, 2) * comb(4, 2) * comb(4, 2) * comb(44, 1)\n",
        "print(f'{two_pairs=}  {two_pairs / total_hands:0.2%}')\n",
        "\n",
        "# the error here is declaring that the suits of the second pair muist be different from the suits of the first pair\n",
        "chatpgt_two_pairs = comb(13, 2) * comb(4, 2) * comb(2, 2) * 11 * comb(4, 1)\n",
        "print(f'chatgpt: {chatpgt_two_pairs=}  {chatpgt_two_pairs / total_hands:0.2%}')\n"
      ]
    },
    {
      "cell_type": "code",
      "source": [],
      "metadata": {
        "id": "zvDY0vRb-9I6"
      },
      "execution_count": null,
      "outputs": []
    }
  ]
}