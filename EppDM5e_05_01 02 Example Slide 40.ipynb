{
  "nbformat": 4,
  "nbformat_minor": 0,
  "metadata": {
    "colab": {
      "provenance": [],
      "authorship_tag": "ABX9TyMJCxAUnC9mIhOUX6R2xrLv",
      "include_colab_link": true
    },
    "kernelspec": {
      "name": "python3",
      "display_name": "Python 3"
    },
    "language_info": {
      "name": "python"
    }
  },
  "cells": [
    {
      "cell_type": "markdown",
      "metadata": {
        "id": "view-in-github",
        "colab_type": "text"
      },
      "source": [
        "<a href=\"https://colab.research.google.com/github/nedlecky/CSC217/blob/main/EppDM5e_05_01%2002%20Example%20Slide%2040.ipynb\" target=\"_parent\"><img src=\"https://colab.research.google.com/assets/colab-badge.svg\" alt=\"Open In Colab\"/></a>"
      ]
    },
    {
      "cell_type": "code",
      "execution_count": 1,
      "metadata": {
        "colab": {
          "base_uri": "https://localhost:8080/"
        },
        "id": "_mJEm7LBWKI6",
        "outputId": "aa4a241e-c3b5-46c4-b94c-838a14f583c1"
      },
      "outputs": [
        {
          "output_type": "stream",
          "name": "stdout",
          "text": [
            "120\n"
          ]
        }
      ],
      "source": [
        "prod = 1\n",
        "\n",
        "for k in range(1,6):\n",
        "  prod *= k\n",
        "\n",
        "print(prod)"
      ]
    },
    {
      "cell_type": "code",
      "source": [
        "prod = 1\n",
        "\n",
        "for k in range(1,2):\n",
        "  prod *= k / (k + 1)\n",
        "\n",
        "print(prod)"
      ],
      "metadata": {
        "colab": {
          "base_uri": "https://localhost:8080/"
        },
        "id": "lce46tbSWXg3",
        "outputId": "658d5b70-05eb-471e-f0c8-054b35f204f3"
      },
      "execution_count": 2,
      "outputs": [
        {
          "output_type": "stream",
          "name": "stdout",
          "text": [
            "0.5\n"
          ]
        }
      ]
    },
    {
      "cell_type": "code",
      "source": [],
      "metadata": {
        "id": "g5IFr6o2X-0k"
      },
      "execution_count": 2,
      "outputs": []
    }
  ]
}