{
  "nbformat": 4,
  "nbformat_minor": 0,
  "metadata": {
    "colab": {
      "provenance": [],
      "authorship_tag": "ABX9TyMgwKQwFjz4r3jCTb1t7EKM"
    },
    "kernelspec": {
      "name": "python3",
      "display_name": "Python 3"
    },
    "language_info": {
      "name": "python"
    }
  },
  "cells": [
    {
      "cell_type": "code",
      "execution_count": null,
      "metadata": {
        "colab": {
          "base_uri": "https://localhost:8080/"
        },
        "id": "FzidWIwuQWdI",
        "outputId": "a51fa46f-2978-4640-85cd-2774cc57abd5"
      },
      "outputs": [
        {
          "output_type": "stream",
          "name": "stdout",
          "text": [
            "-1\n",
            "-1\n",
            "-1\n",
            "-1\n",
            "-1\n",
            "-1\n",
            "-1\n",
            "-1\n",
            "-1\n",
            "-1\n"
          ]
        }
      ],
      "source": [
        "for i in range(0,10):\n",
        "  a = -1**i\n",
        "  print(a)"
      ]
    },
    {
      "cell_type": "code",
      "source": [
        "for i in range(0,10):\n",
        "  a = (-1)**i\n",
        "  print(a)"
      ],
      "metadata": {
        "colab": {
          "base_uri": "https://localhost:8080/"
        },
        "id": "0LJ3zAn3Qn7j",
        "outputId": "fac07f93-a0d6-4766-b5ad-d280756739d1"
      },
      "execution_count": null,
      "outputs": [
        {
          "output_type": "stream",
          "name": "stdout",
          "text": [
            "1\n",
            "-1\n",
            "1\n",
            "-1\n",
            "1\n",
            "-1\n",
            "1\n",
            "-1\n",
            "1\n",
            "-1\n"
          ]
        }
      ]
    },
    {
      "cell_type": "code",
      "source": [
        "n = 10\n",
        "\n",
        "for i in range(0,n+1):\n",
        "  a = (-1)**i / (i + 1)\n",
        "  print(i,a)"
      ],
      "metadata": {
        "colab": {
          "base_uri": "https://localhost:8080/"
        },
        "id": "1b9-k7cBQ1lK",
        "outputId": "437ba0bf-9074-4a95-981f-1b7660de3f98"
      },
      "execution_count": null,
      "outputs": [
        {
          "output_type": "stream",
          "name": "stdout",
          "text": [
            "0 1.0\n",
            "1 -0.5\n",
            "2 0.3333333333333333\n",
            "3 -0.25\n",
            "4 0.2\n",
            "5 -0.16666666666666666\n",
            "6 0.14285714285714285\n",
            "7 -0.125\n",
            "8 0.1111111111111111\n",
            "9 -0.1\n",
            "10 0.09090909090909091\n"
          ]
        }
      ]
    },
    {
      "cell_type": "code",
      "source": [
        "# Does this converge?\n",
        "def F(n):\n",
        "  sum = 0\n",
        "  for i in range(0,n+1):\n",
        "    a = (-1)**i / (i + 1)\n",
        "    sum += a\n",
        "  return sum\n",
        "\n",
        "print(F(0))\n",
        "print(F(1))\n",
        "print(F(2))\n",
        "print(F(10))\n",
        "print(F(100))\n",
        "print(F(1000))\n"
      ],
      "metadata": {
        "colab": {
          "base_uri": "https://localhost:8080/"
        },
        "id": "aXsANscvRAOi",
        "outputId": "0cd0d316-eddc-4a61-97df-27c2edf4582d"
      },
      "execution_count": null,
      "outputs": [
        {
          "output_type": "stream",
          "name": "stdout",
          "text": [
            "1.0\n",
            "0.5\n",
            "0.8333333333333333\n",
            "0.7365440115440116\n",
            "0.6980731694092049\n",
            "0.6936464315588232\n"
          ]
        }
      ]
    },
    {
      "cell_type": "code",
      "source": [
        "# Plot?\n",
        "\n",
        "n = 1000\n",
        "y = []\n",
        "for i in range(0,n+1):\n",
        "  y.append((-1)**i / (i + 1))\n"
      ],
      "metadata": {
        "id": "zJtF_ayyRV0r"
      },
      "execution_count": null,
      "outputs": []
    },
    {
      "cell_type": "code",
      "source": [
        "import matplotlib.pyplot as plt\n",
        "\n",
        "plt.plot(y)"
      ],
      "metadata": {
        "colab": {
          "base_uri": "https://localhost:8080/",
          "height": 282
        },
        "id": "TCIdPA7MSBoK",
        "outputId": "d816b83c-2eaf-4438-f2a8-6294c70ba8fe"
      },
      "execution_count": null,
      "outputs": [
        {
          "output_type": "execute_result",
          "data": {
            "text/plain": [
              "[<matplotlib.lines.Line2D at 0x7fe9c73bead0>]"
            ]
          },
          "metadata": {},
          "execution_count": 15
        },
        {
          "output_type": "display_data",
          "data": {
            "text/plain": [
              "<Figure size 432x288 with 1 Axes>"
            ],
            "image/png": "[encoded data removed]"
          },
          "metadata": {
            "needs_background": "light"
          }
        }
      ]
    },
    {
      "cell_type": "code",
      "source": [],
      "metadata": {
        "id": "hXC6hZ2qSQwL"
      },
      "execution_count": null,
      "outputs": []
    }
  ]
}